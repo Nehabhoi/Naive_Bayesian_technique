{
 "cells": [
  {
   "cell_type": "code",
   "execution_count": 1,
   "metadata": {},
   "outputs": [],
   "source": [
    "# All Imports\n",
    "import seaborn as sns\n",
    "import pandas as pd\n",
    "import matplotlib.pyplot as plt\n"
   ]
  },
  {
   "cell_type": "code",
   "execution_count": 2,
   "metadata": {},
   "outputs": [
    {
     "name": "stdout",
     "output_type": "stream",
     "text": [
      "   Pregnancies  Glucose  BloodPressure  SkinThickness  Insulin   BMI  \\\n",
      "0            6      148             72             35        0  33.6   \n",
      "1            1       85             66             29        0  26.6   \n",
      "2            8      183             64              0        0  23.3   \n",
      "3            1       89             66             23       94  28.1   \n",
      "4            0      137             40             35      168  43.1   \n",
      "\n",
      "   DiabetesPedigreeFunction  Age  Outcome  \n",
      "0                     0.627   50        1  \n",
      "1                     0.351   31        0  \n",
      "2                     0.672   32        1  \n",
      "3                     0.167   21        0  \n",
      "4                     2.288   33        1  \n"
     ]
    }
   ],
   "source": [
    "train_data = pd.read_csv(\"diabetes.csv\")\n",
    "print(train_data.head(5))"
   ]
  },
  {
   "cell_type": "code",
   "execution_count": 3,
   "metadata": {},
   "outputs": [
    {
     "name": "stdout",
     "output_type": "stream",
     "text": [
      "mean calculation\n",
      "Pregnancies                   3.845052\n",
      "Glucose                     120.894531\n",
      "BloodPressure                69.105469\n",
      "SkinThickness                20.536458\n",
      "Insulin                      79.799479\n",
      "BMI                          31.992578\n",
      "DiabetesPedigreeFunction      0.471876\n",
      "Age                          33.240885\n",
      "Outcome                       0.348958\n",
      "dtype: float64\n"
     ]
    }
   ],
   "source": [
    "print(\"mean calculation\")\n",
    "mu=train_data.mean(axis = 0)\n",
    "print(mu)"
   ]
  },
  {
   "cell_type": "code",
   "execution_count": 4,
   "metadata": {
    "scrolled": true
   },
   "outputs": [
    {
     "name": "stdout",
     "output_type": "stream",
     "text": [
      "Standared deveation calculation\n",
      "Pregnancies                   3.369578\n",
      "Glucose                      31.972618\n",
      "BloodPressure                19.355807\n",
      "SkinThickness                15.952218\n",
      "Insulin                     115.244002\n",
      "BMI                           7.884160\n",
      "DiabetesPedigreeFunction      0.331329\n",
      "Age                          11.760232\n",
      "Outcome                       0.476951\n",
      "dtype: float64\n"
     ]
    }
   ],
   "source": [
    "print(\"Standared deveation calculation\")\n",
    "sigma=train_data.std(axis = 0, skipna = True)\n",
    "print(sigma)"
   ]
  },
  {
   "cell_type": "code",
   "execution_count": 5,
   "metadata": {},
   "outputs": [
    {
     "name": "stdout",
     "output_type": "stream",
     "text": [
      "         Pregnancies     Glucose  BloodPressure  SkinThickness     Insulin  \\\n",
      "Outcome                                                                      \n",
      "0           3.298000  109.980000      68.184000      19.664000   68.792000   \n",
      "1           4.865672  141.257463      70.824627      22.164179  100.335821   \n",
      "\n",
      "               BMI  DiabetesPedigreeFunction        Age  \n",
      "Outcome                                                  \n",
      "0        30.304200                  0.429734  31.190000  \n",
      "1        35.142537                  0.550500  37.067164  \n"
     ]
    }
   ],
   "source": [
    "data_means = train_data.groupby('Outcome').mean()\n",
    "print(data_means)"
   ]
  },
  {
   "cell_type": "code",
   "execution_count": 6,
   "metadata": {},
   "outputs": [
    {
     "name": "stdout",
     "output_type": "stream",
     "text": [
      "         Pregnancies      Glucose  BloodPressure  SkinThickness       Insulin  \\\n",
      "Outcome                                                                         \n",
      "0           9.103403   683.362325     326.274693     221.710525   9774.345427   \n",
      "1          13.996870  1020.139457     461.897968     312.572195  19234.673319   \n",
      "\n",
      "               BMI  DiabetesPedigreeFunction         Age  \n",
      "Outcome                                                   \n",
      "0        59.133870                  0.089452  136.134168  \n",
      "1        52.750693                  0.138648  120.302588  \n"
     ]
    }
   ],
   "source": [
    "data_variance = train_data.groupby('Outcome').var()\n",
    "print(data_variance)"
   ]
  },
  {
   "cell_type": "code",
   "execution_count": null,
   "metadata": {},
   "outputs": [],
   "source": []
  },
  {
   "cell_type": "code",
   "execution_count": 7,
   "metadata": {},
   "outputs": [],
   "source": [
    "#mean for 0\n",
    "f_Pregnancies_mean = data_means['Pregnancies'][data_variance.index == 0].values[0]\n",
    "f_Glucose_mean = data_means['Glucose'][data_variance.index == 0].values[0]\n",
    "f_BloodPressure_mean = data_means['BloodPressure'][data_variance.index == 0].values[0]\n",
    "f_SkinThickness_mean = data_means['SkinThickness'][data_variance.index == 0].values[0]\n",
    "f_Insulin_mean = data_means['Insulin'][data_variance.index == 0].values[0]\n",
    "f_BMI_mean = data_means['BMI'][data_variance.index == 0].values[0]\n",
    "f_DiabetesPedigreeFunction_mean = data_means['DiabetesPedigreeFunction'][data_variance.index == 0].values[0]\n",
    "f_Age_mean = data_means['Age'][data_variance.index == 0].values[0]\n",
    "\n",
    "# variance for 0\n",
    "f_Pregnancies_variance = data_variance['Pregnancies'][data_variance.index == 0].values[0]\n",
    "f_Glucose_variance = data_variance['Glucose'][data_variance.index == 0].values[0]\n",
    "f_BloodPressure_variance = data_variance['BloodPressure'][data_variance.index == 0].values[0]\n",
    "f_SkinThickness_variance = data_variance['SkinThickness'][data_variance.index == 0].values[0]\n",
    "f_Insulin_variance = data_variance['Insulin'][data_variance.index == 0].values[0]\n",
    "f_BMI_variance = data_variance['BMI'][data_variance.index == 0].values[0]\n",
    "f_DiabetesPedigreeFunction_variance = data_variance['DiabetesPedigreeFunction'][data_variance.index == 0].values[0]\n",
    "f_Age_variance = data_variance['Age'][data_variance.index == 0].values[0]\n",
    "\n",
    "\n",
    "#mean for 1\n",
    "s_Pregnancies_mean = data_means['Pregnancies'][data_variance.index == 1].values[0]\n",
    "s_Glucose_mean = data_means['Glucose'][data_variance.index == 1].values[0]\n",
    "s_BloodPressure_mean = data_means['BloodPressure'][data_variance.index == 1].values[0]\n",
    "s_SkinThickness_mean = data_means['SkinThickness'][data_variance.index == 1].values[0]\n",
    "s_Insulin_mean = data_means['Insulin'][data_variance.index == 1].values[0]\n",
    "s_BMI_mean = data_means['BMI'][data_variance.index == 1].values[0]\n",
    "s_DiabetesPedigreeFunction_mean = data_means['DiabetesPedigreeFunction'][data_variance.index == 1].values[0]\n",
    "s_Age_mean = data_means['Age'][data_variance.index == 1].values[0]\n",
    "\n",
    "# variance for 1\n",
    "s_Pregnancies_variance = data_variance['Pregnancies'][data_variance.index == 1].values[0]\n",
    "s_Glucose_variance = data_variance['Glucose'][data_variance.index == 1].values[0]\n",
    "s_BloodPressure_variance = data_variance['BloodPressure'][data_variance.index == 1].values[0]\n",
    "s_SkinThickness_variance = data_variance['SkinThickness'][data_variance.index == 1].values[0]\n",
    "s_Insulin_variance = data_variance['Insulin'][data_variance.index == 1].values[0]\n",
    "s_BMI_variance = data_variance['BMI'][data_variance.index == 1].values[0]\n",
    "s_DiabetesPedigreeFunction_variance = data_variance['DiabetesPedigreeFunction'][data_variance.index == 1].values[0]\n",
    "s_Age_variance = data_variance['Age'][data_variance.index == 1].values[0]\n"
   ]
  },
  {
   "cell_type": "code",
   "execution_count": 8,
   "metadata": {},
   "outputs": [],
   "source": [
    "validat_data = pd.DataFrame()\n",
    "validat_data['Pregnancies'] = [7]\n",
    "validat_data['Glucose'] = [196]\n",
    "validat_data['BloodPressure'] = [90]\n",
    "validat_data['SkinThickness'] = [0]\n",
    "validat_data['Insulin'] = [0]\n",
    "validat_data['BMI'] = [39.8]\n",
    "validat_data['DiabetesPedigreeFunction'] = [0.451]\n",
    "validat_data['Age'] = [41]"
   ]
  },
  {
   "cell_type": "code",
   "execution_count": 9,
   "metadata": {},
   "outputs": [
    {
     "name": "stdout",
     "output_type": "stream",
     "text": [
      "outcome is 0: 8.054524698879213e-16\n",
      "outcome is 1: 4.0704332637251175e-14\n"
     ]
    }
   ],
   "source": [
    "n_f = train_data['Outcome'][train_data['Outcome'] == 0].count()\n",
    "n_s = train_data['Outcome'][train_data['Outcome'] == 1].count()\n",
    "total = train_data['Outcome'].count()\n",
    "\n",
    "p_f = n_f / total\n",
    "p_s = n_s / total\n",
    "\n",
    "# Create a function that calculates p(x | y):\n",
    "import numpy as np\n",
    "def p_x_given_y(x, mean_y, variance_y):\n",
    "\n",
    "    # Input the arguments into a probability density function\n",
    "    p = 1/(np.sqrt(2*np.pi*variance_y)) * np.exp((-(x-mean_y)**2)/(2*variance_y))\n",
    "    \n",
    "    # return p\n",
    "    return p\n",
    "\n",
    "#Numerator of the posterior if the unclassified observation is Outcome = 0\n",
    "result_f = p_f * p_x_given_y(validat_data['Pregnancies'][0], f_Pregnancies_mean, f_Pregnancies_variance) \\\n",
    "* p_x_given_y(validat_data['Glucose'][0], f_Glucose_mean, f_Glucose_variance)\\\n",
    "* p_x_given_y(validat_data['BloodPressure'][0], f_BloodPressure_mean, f_BloodPressure_variance)\\\n",
    "* p_x_given_y(validat_data['SkinThickness'][0], f_SkinThickness_mean, f_SkinThickness_variance)\\\n",
    "* p_x_given_y(validat_data['Insulin'][0], f_Insulin_mean, f_Insulin_variance)\\\n",
    "* p_x_given_y(validat_data['BMI'][0], f_BMI_mean, f_BMI_variance)\\\n",
    "* p_x_given_y(validat_data['DiabetesPedigreeFunction'][0], f_DiabetesPedigreeFunction_mean, f_DiabetesPedigreeFunction_variance)\\\n",
    "* p_x_given_y(validat_data['Age'][0], f_Age_mean, f_Age_variance)\n",
    "\n",
    "#Numerator of the posterior if the unclassified observation is Outcome = 1\n",
    "result_s = p_s * p_x_given_y(validat_data['Pregnancies'][0], s_Pregnancies_mean, s_Pregnancies_variance)\\\n",
    "* p_x_given_y(validat_data['Glucose'][0], s_Glucose_mean, s_Glucose_variance)\\\n",
    "* p_x_given_y(validat_data['BloodPressure'][0], s_BloodPressure_mean, s_BloodPressure_variance)\\\n",
    "* p_x_given_y(validat_data['SkinThickness'][0], s_SkinThickness_mean, s_SkinThickness_variance)\\\n",
    "* p_x_given_y(validat_data['Insulin'][0], s_Insulin_mean, s_Insulin_variance)\\\n",
    "* p_x_given_y(validat_data['BMI'][0], s_BMI_mean, s_BMI_variance)\\\n",
    "* p_x_given_y(validat_data['DiabetesPedigreeFunction'][0], s_DiabetesPedigreeFunction_mean, s_DiabetesPedigreeFunction_variance)\\\n",
    "* p_x_given_y(validat_data['Age'][0], s_Age_mean, s_Age_variance)\n",
    "\n",
    "\n",
    "print(\"outcome is 0:\",result_f)\n",
    "print(\"outcome is 1:\",result_s)"
   ]
  },
  {
   "cell_type": "code",
   "execution_count": 10,
   "metadata": {},
   "outputs": [
    {
     "name": "stdout",
     "output_type": "stream",
     "text": [
      "Accuracy:  0.7463768115942029\n",
      "Error:  0.2536231884057971\n",
      "Sensitivity:  0.56\n",
      "Specificity:  13.0\n"
     ]
    }
   ],
   "source": [
    "import pandas as pd\n",
    "import numpy as np\n",
    "\n",
    "data = pd.read_csv(\"diabetes.csv\")\n",
    "msk = np.random.rand(len(data)) < 0.8\n",
    "train_data = data[msk]\n",
    "test_set = data[~msk]\n",
    "\n",
    "column_list = train_data.columns.tolist()\n",
    "Number_of_features = len(train_data.columns)-1\n",
    "Outcome_Column = train_data.columns[Number_of_features]\n",
    "\n",
    "data_means = train_data.groupby(Outcome_Column).mean()\n",
    "data_variance = train_data.groupby(Outcome_Column).var()\n",
    "\n",
    "Yes_outcome = 1\n",
    "No_outcome = 0\n",
    "n_f = train_data[Outcome_Column][train_data[Outcome_Column] == No_outcome].count()\n",
    "n_s = train_data[Outcome_Column][train_data[Outcome_Column] == Yes_outcome].count()\n",
    "total = train_data[Outcome_Column].count()\n",
    "\n",
    "p_f = n_f / total\n",
    "p_s = n_s / total\n",
    "\n",
    "\n",
    "No_mean_list = list()\n",
    "No_Variance_list = list()\n",
    "Yes_mean_list = list()\n",
    "Yes_Variance_list = list()\n",
    "\n",
    "for x in range(Number_of_features):\n",
    "    No_mean_list.append(data_means[column_list[x]][data_variance.index == No_outcome].values[0])\n",
    "    No_Variance_list.append(data_variance[column_list[x]][data_variance.index == No_outcome].values[0])\n",
    "    Yes_mean_list.append(data_means[column_list[x]][data_variance.index == Yes_outcome].values[0])\n",
    "    Yes_Variance_list.append(data_variance[column_list[x]][data_variance.index == Yes_outcome].values[0])\n",
    "\n",
    "\n",
    "def p_x_given_y(x, mean_y, variance_y):\n",
    "    p = 1/(np.sqrt(2*np.pi*variance_y)) * np.exp((-(x-mean_y)**2)/(2*variance_y))\n",
    "    return p\n",
    "\n",
    "def calulate_posterior(prior_probability,data_list,mean_list,variance_list):\n",
    "    result = prior_probability;\n",
    "    for i in range(len(data_list)):\n",
    "        result = result * p_x_given_y(data_list[i],mean_list[i],variance_list[i])\n",
    "    return result\n",
    "\n",
    "\n",
    "TN = 0\n",
    "FP = 0 \n",
    "FN = 0\n",
    "TP = 0 \n",
    "def clasifier(test_entry):\n",
    "    global TN , TP, FP, FN\n",
    "    yes_posterior_prob = calulate_posterior(p_s,test_entry[0:Number_of_features],Yes_mean_list,Yes_Variance_list)\n",
    "    no_posterior_prob = calulate_posterior(p_f,test_entry[0:Number_of_features],No_mean_list,No_Variance_list)\n",
    "    if yes_posterior_prob > no_posterior_prob:\n",
    "        predicted_prob = 1\n",
    "    else:\n",
    "        predicted_prob = 0\n",
    "    if(predicted_prob == 0 and test_entry[Number_of_features]==0):\n",
    "        TN = TN + 1\n",
    "    if(predicted_prob == 1 and test_entry[Number_of_features]==1):\n",
    "        TP = TP + 1\n",
    "    if(predicted_prob == 1 and test_entry[Number_of_features]==0):\n",
    "        FP = FP + 1\n",
    "    if(predicted_prob == 0 and test_entry[Number_of_features]==1):\n",
    "        FN = FN + 1\n",
    "\n",
    "for index,row in test_set.iterrows():\n",
    "        clasifier(row.values)\n",
    "#print('TN,FP,FN,TP',TN,FP,FN,TP)\n",
    "print(\"Accuracy: \", (TP + TN) / (TP + FP + TN +FN) )\n",
    "print(\"Error: \",(FP + FN) / (TP + FP + TN +FN))\n",
    "print(\"Sensitivity: \", TP / (FN + TP) )\n",
    "print(\"Specificity: \", TN / (TN/FP) )"
   ]
  },
  {
   "cell_type": "code",
   "execution_count": 17,
   "metadata": {},
   "outputs": [
    {
     "data": {
      "text/plain": [
       "<matplotlib.axes._subplots.AxesSubplot at 0x1a1c5bb990>"
      ]
     },
     "execution_count": 17,
     "metadata": {},
     "output_type": "execute_result"
    },
    {
     "data": {
      "image/png": "[encoded data removed]",
      "text/plain": [
       "<Figure size 432x288 with 2 Axes>"
      ]
     },
     "metadata": {
      "needs_background": "light"
     },
     "output_type": "display_data"
    }
   ],
   "source": [
    "cf_matrix = np.array([[TN, FP], [FN, TP]])\n",
    "# sns.heatmap(cf_matrix/np.sum(cf_matrix), annot=True, fmt='.2%', cmap='Blues')\n",
    "# sns.heatmap(cf_matrix, annot=labels, fmt=\"\", cmap='Blues')\n",
    "\n",
    "group_names = [\"True Neg\",\"False Pos\",\"False Neg\",\"True Pos\"]\n",
    "group_counts = [“{0:0.0f}”.format(value) for value in\n",
    "                cf_matrix.flatten()]\n",
    "group_percentages = [“{0:.2%}”.format(value) for value in\n",
    "                     cf_matrix.flatten()/np.sum(cf_matrix)]\n",
    "labels = [f”{v1}\\n{v2}\\n{v3}” for v1, v2, v3 in\n",
    "          zip(group_names,group_counts,group_percentages)]\n",
    "labels = np.asarray(labels).reshape(2,2)\n",
    "sns.heatmap(cf_matrix, annot=labels, fmt=‘’, cmap='Blues')"
   ]
  },
  {
   "cell_type": "code",
   "execution_count": null,
   "metadata": {},
   "outputs": [],
   "source": []
  }
 ],
 "metadata": {
  "kernelspec": {
   "display_name": "Python 3",
   "language": "python",
   "name": "python3"
  },
  "language_info": {
   "codemirror_mode": {
    "name": "ipython",
    "version": 3
   },
   "file_extension": ".py",
   "mimetype": "text/x-python",
   "name": "python",
   "nbconvert_exporter": "python",
   "pygments_lexer": "ipython3",
   "version": "3.7.4"
  }
 },
 "nbformat": 4,
 "nbformat_minor": 2
}
